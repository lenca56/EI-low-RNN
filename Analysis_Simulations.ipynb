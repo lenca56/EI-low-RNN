{
 "cells": [
  {
   "cell_type": "code",
   "execution_count": 1,
   "metadata": {},
   "outputs": [
    {
     "name": "stdout",
     "output_type": "stream",
     "text": [
      "(3, 16)\n"
     ]
    }
   ],
   "source": [
    "import numpy as np\n",
    "import EI_subspace_RNN\n",
    "import scipy.stats as stats\n",
    "import utils\n",
    "\n",
    "# hyperparameters\n",
    "N_e = 8\n",
    "N_i = 8\n",
    "N = N_e + N_i \n",
    "K = 3\n",
    "J = np.random.normal(0, 1/N, (K,N))\n",
    "J_inv = np.linalg.pinv(J) # pseudo-inverse (J * J_inv = identity, but J_inv * J is not)\n",
    "sparsity = 0.25\n",
    "D = 8\n",
    "T = 1000\n",
    "print(J.shape)"
   ]
  },
  {
   "cell_type": "code",
   "execution_count": 2,
   "metadata": {},
   "outputs": [
    {
     "name": "stdout",
     "output_type": "stream",
     "text": [
      "[[0, 0], [1, 1], [2, 2], [3, 3], [4, 4], [5, 5], [6, 6], [7, 7], [8, 8], [9, 9], [10, 10], [11, 11], [12, 12], [13, 13], [14, 14], [15, 15], [13, 11], [4, 15], [1, 14], [4, 8], [6, 15], [13, 15], [7, 15], [5, 7], [13, 4], [11, 6], [15, 10], [3, 12], [14, 9], [0, 2], [8, 10], [4, 13], [10, 8], [4, 5], [8, 14], [4, 0], [2, 7], [11, 14], [10, 2], [10, 12], [3, 14], [10, 5], [14, 11], [13, 9], [10, 14], [6, 9], [6, 2], [0, 7], [2, 9], [5, 4], [5, 11], [9, 6], [8, 15], [11, 3], [14, 10], [14, 1], [12, 2], [15, 8], [14, 7], [3, 13], [7, 8], [9, 5], [11, 15], [1, 5]]\n"
     ]
    }
   ],
   "source": [
    "RNN = EI_subspace_RNN.EI_subspace_RNN(N_e, N_i, sparsity, J, seed1=2, seed2=4)\n",
    "N_weights = len(RNN.W_ind)\n",
    "print(RNN.W_ind)"
   ]
  },
  {
   "cell_type": "code",
   "execution_count": 3,
   "metadata": {},
   "outputs": [
    {
     "name": "stdout",
     "output_type": "stream",
     "text": [
      "(64,)\n",
      "[[ 1.  0.  1.  0.  0.  0.  0.  1.  0.  0.  0.  0.  0.  0.  0.  0.]\n",
      " [ 0.  1.  0.  0.  0.  1.  0.  0.  0.  0.  0.  0.  0.  0. -1.  0.]\n",
      " [ 0.  0.  1.  0.  0.  0.  0.  1.  0. -1.  0.  0.  0.  0.  0.  0.]\n",
      " [ 0.  0.  0.  1.  0.  0.  0.  0.  0.  0.  0.  0. -1. -1. -1.  0.]\n",
      " [ 1.  0.  0.  0.  1.  1.  0.  0. -1.  0.  0.  0.  0. -1.  0. -1.]\n",
      " [ 0.  0.  0.  0.  1.  1.  0.  1.  0.  0.  0. -1.  0.  0.  0.  0.]\n",
      " [ 0.  0.  1.  0.  0.  0.  1.  0.  0. -1.  0.  0.  0.  0.  0. -1.]\n",
      " [ 0.  0.  0.  0.  0.  0.  0.  1. -1.  0.  0.  0.  0.  0.  0. -1.]\n",
      " [ 0.  0.  0.  0.  0.  0.  0.  0. -1.  0. -1.  0.  0.  0. -1. -1.]\n",
      " [ 0.  0.  0.  0.  0.  1.  1.  0.  0. -1.  0.  0.  0.  0.  0.  0.]\n",
      " [ 0.  0.  1.  0.  0.  1.  0.  0. -1.  0. -1.  0. -1.  0. -1.  0.]\n",
      " [ 0.  0.  0.  1.  0.  0.  1.  0.  0.  0.  0. -1.  0.  0. -1. -1.]\n",
      " [ 0.  0.  1.  0.  0.  0.  0.  0.  0.  0.  0.  0. -1.  0.  0.  0.]\n",
      " [ 0.  0.  0.  0.  1.  0.  0.  0.  0. -1.  0. -1.  0. -1.  0. -1.]\n",
      " [ 0.  1.  0.  0.  0.  0.  0.  1.  0. -1. -1. -1.  0.  0. -1.  0.]\n",
      " [ 0.  0.  0.  0.  0.  0.  0.  0. -1.  0. -1.  0.  0.  0.  0. -1.]]\n"
     ]
    }
   ],
   "source": [
    "w = np.ones((N_weights))\n",
    "print(w.shape)\n",
    "print(RNN.build_full_weight_matrix(w))"
   ]
  },
  {
   "cell_type": "code",
   "execution_count": 13,
   "metadata": {},
   "outputs": [
    {
     "name": "stdout",
     "output_type": "stream",
     "text": [
      "(1000, 3, 1)\n",
      "(1000, 8, 1)\n"
     ]
    }
   ],
   "source": [
    "true_w, true_b, true_s, true_mu0, true_Q0, true_C_, true_d, true_R = RNN.generate_parameters(N_weights, D, K)\n",
    "x, y = RNN.generate_activity(T, true_w, true_b, true_s, true_mu0, true_Q0, true_C_, true_d, true_R )\n",
    "print(x.shape)\n",
    "print(y.shape)"
   ]
  },
  {
   "cell_type": "code",
   "execution_count": 14,
   "metadata": {},
   "outputs": [],
   "source": [
    "W = RNN.build_full_weight_matrix(w)\n",
    "A = utils.build_dynamics_matrix_A(W, J)"
   ]
  },
  {
   "cell_type": "code",
   "execution_count": 32,
   "metadata": {},
   "outputs": [],
   "source": [
    "w, b, s, mu0, Q0, C_, d, R = RNN.fit_EM(x, y, true_w, true_b, true_s, true_mu0, true_Q0, true_C_, true_d, true_R, alpha=0, beta=0, max_iter=1)"
   ]
  },
  {
   "cell_type": "code",
   "execution_count": 33,
   "metadata": {},
   "outputs": [
    {
     "data": {
      "image/png": "[encoded data removed]",
      "text/plain": [
       "<Figure size 720x720 with 1 Axes>"
      ]
     },
     "metadata": {
      "needs_background": "light"
     },
     "output_type": "display_data"
    }
   ],
   "source": [
    "import matplotlib.pyplot as plt\n",
    "def mse(z, true_z):\n",
    "    return np.trace((z-true_z) @ (z-true_z).T)\n",
    "def plot_mse(w, b, s, mu0, Q0, C_, d, R, true_w, true_b, true_s, true_mu0, true_Q0, true_C_, true_d, true_R):\n",
    "    fig, axes = plt.subplots(figsize=(10,10))\n",
    "    axes.set_ylabel('mse')\n",
    "    axes.scatter(range(9), [mse(w, true_w), mse(b[0], true_b[0]), mse(b[1], true_b[1]), (s - true_s) ** 2, mse(mu0, true_mu0), mse(Q0, true_Q0), mse(C_, true_C_), mse(d, true_d), mse(R, true_R)] )\n",
    "    axes.set_xticks(range(9), ['w', 'b0', 'b1','s', 'mu0', 'Q0', 'C_', 'd', 'R'])\n",
    "    plt.show()\n",
    "plot_mse(w, b, s, mu0, Q0, C_, d, R, true_w, true_b, true_s, true_mu0, true_Q0, true_C_, true_d, true_R)\n"
   ]
  },
  {
   "cell_type": "code",
   "execution_count": 21,
   "metadata": {},
   "outputs": [
    {
     "name": "stdout",
     "output_type": "stream",
     "text": [
      "[1. 1. 1. 1. 1. 1. 1. 1. 1. 1. 1. 1. 1. 1. 1. 1. 1. 1. 1. 1. 1. 1. 1. 1.\n",
      " 1. 1. 1. 1. 1. 1. 1. 1. 1. 1. 1. 1. 1. 1. 1. 1. 1. 1. 1. 1. 1. 1. 1. 1.\n",
      " 1. 1. 1. 1. 1. 1. 1. 1. 1. 1. 1. 1. 1. 1. 1. 1.]\n"
     ]
    }
   ],
   "source": [
    "from scipy.optimize import minimize\n",
    "w, b, s, mu0, Q0, C_, d, R = RNN.generate_parameters(N_weights, D, K)\n",
    "def constraint(w):\n",
    "    return w\n",
    "con = {'type': 'ineq', 'fun': constraint}\n",
    "bounds = [(1, None) for i in range(w.shape[0])]\n",
    "opt_fun = lambda w: np.trace(RNN.build_full_weight_matrix(w) @ RNN.build_full_weight_matrix(w).T)\n",
    "opt_grad = lambda w: 2 * RNN.build_full_weight_matrix(w)\n",
    "w = minimize(opt_fun, w.flatten(), method='SLSQP', constraints=[con], bounds=bounds).x\n",
    "print(w)"
   ]
  },
  {
   "cell_type": "code",
   "execution_count": 18,
   "metadata": {},
   "outputs": [
    {
     "name": "stdout",
     "output_type": "stream",
     "text": [
      "(64,)\n",
      "(16, 16)\n"
     ]
    }
   ],
   "source": [
    "print(w.shape)\n",
    "print(W.shape)"
   ]
  },
  {
   "cell_type": "code",
   "execution_count": null,
   "metadata": {},
   "outputs": [],
   "source": []
  },
  {
   "cell_type": "code",
   "execution_count": null,
   "metadata": {},
   "outputs": [],
   "source": []
  }
 ],
 "metadata": {
  "kernelspec": {
   "display_name": "base",
   "language": "python",
   "name": "python3"
  },
  "language_info": {
   "codemirror_mode": {
    "name": "ipython",
    "version": 3
   },
   "file_extension": ".py",
   "mimetype": "text/x-python",
   "name": "python",
   "nbconvert_exporter": "python",
   "pygments_lexer": "ipython3",
   "version": "3.9.12"
  }
 },
 "nbformat": 4,
 "nbformat_minor": 2
}
